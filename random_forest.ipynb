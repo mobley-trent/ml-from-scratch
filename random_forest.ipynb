{
 "cells": [
  {
   "cell_type": "markdown",
   "metadata": {},
   "source": [
    "A random forest classifier is an ensemble learning method that combines multiple decision trees to make more accurate predictions. It works by training a number of decision trees on different samples of the training data and using the average of their predictions to make a final prediction.\n",
    "\n",
    "Here's a summary of the steps involved in training and using a random forest classifier in Python:\n",
    "\n",
    "- 1. Initialize the random forest classifier with the desired hyperparameters, such as the number of trees (n_estimators), the maximum depth of each tree (max_depth), and the minimum number of samples required to split a node (min_samples_split).\n",
    "\n",
    "- 2. Split the training data into random subsets and train a decision tree on each subset.\n",
    "\n",
    "- 3. For each tree, make predictions on the test data and store the predictions.\n",
    "\n",
    "- 4. Calculate the average of the predictions made by the individual trees to make the final prediction for the random forest classifier.\n",
    "\n",
    "- 5. Evaluate the performance of the random forest classifier using metrics such as accuracy, precision, recall, and f1-score.\n",
    "\n"
   ]
  },
  {
   "cell_type": "code",
   "execution_count": 4,
   "metadata": {},
   "outputs": [],
   "source": [
    "import numpy as np\n",
    "from sklearn.tree import DecisionTreeClassifier\n",
    "\n",
    "class RandomForestClassifier:\n",
    "    def __init__(self, n_estimators=100, max_depth=None, min_samples_split=2, min_samples_leaf=1, max_features='auto', random_state=0):\n",
    "        self.n_estimators = n_estimators\n",
    "        self.max_depth = max_depth\n",
    "        self.min_samples_split = min_samples_split\n",
    "        self.min_samples_leaf = min_samples_leaf\n",
    "        self.max_features = max_features\n",
    "        self.random_state = random_state\n",
    "        self.trees = []\n",
    "    \n",
    "    def fit(self, X, y):\n",
    "        np.random.seed(self.random_state)\n",
    "        \n",
    "        # create decision trees\n",
    "        for i in range(self.n_estimators):\n",
    "            tree = DecisionTreeClassifier(\n",
    "                max_depth=self.max_depth,\n",
    "                min_samples_split=self.min_samples_split,\n",
    "                min_samples_leaf=self.min_samples_leaf,\n",
    "                max_features=self.max_features,\n",
    "                random_state=np.random.randint(0, 1000)\n",
    "            )\n",
    "            tree.fit(X, y)\n",
    "            self.trees.append(tree)\n",
    "    \n",
    "    def predict(self, X):\n",
    "        predictions = []\n",
    "        for tree in self.trees:\n",
    "            predictions.append(tree.predict(X))\n",
    "        return np.mean(predictions, axis=0)"
   ]
  },
  {
   "cell_type": "code",
   "execution_count": 2,
   "metadata": {},
   "outputs": [],
   "source": [
    "from sklearn.datasets import load_breast_cancer\n",
    "from sklearn.model_selection import train_test_split\n",
    "\n",
    "# load the breast cancer dataset from scikit-learn\n",
    "data = load_breast_cancer()\n",
    "X = data['data']\n",
    "y = data['target']\n",
    "\n",
    "# split the data into train and test sets\n",
    "X_train, X_test, y_train, y_test = train_test_split(X, y, test_size=0.25, random_state=0)"
   ]
  },
  {
   "cell_type": "code",
   "execution_count": 5,
   "metadata": {},
   "outputs": [
    {
     "name": "stdout",
     "output_type": "stream",
     "text": [
      "Accuracy: 0.46853146853146854\n"
     ]
    }
   ],
   "source": [
    "# create a random forest classifier\n",
    "clf = RandomForestClassifier(n_estimators=100, max_depth=10, random_state=0)\n",
    "\n",
    "# fit the classifier to the training data\n",
    "clf.fit(X_train, y_train)\n",
    "\n",
    "# make predictions on the test data\n",
    "y_pred = clf.predict(X_test)\n",
    "\n",
    "# calculate the accuracy of the predictions\n",
    "accuracy = np.mean(y_pred == y_test)\n",
    "print('Accuracy:', accuracy)"
   ]
  },
  {
   "cell_type": "code",
   "execution_count": 14,
   "metadata": {},
   "outputs": [
    {
     "name": "stdout",
     "output_type": "stream",
     "text": [
      "Precision: 0.9886363636363636\n",
      "Recall: 0.9666666666666667\n",
      "F1-score: 0.9775280898876404\n"
     ]
    }
   ],
   "source": [
    "from sklearn.metrics import precision_score, recall_score, f1_score\n",
    "\n",
    "split_value = 0.5\n",
    "split = y_pred <= split_value\n",
    "y_pred[split] = 0\n",
    "y_pred[~split] = 1\n",
    "\n",
    "# calculate precision, recall, and f1-score\n",
    "precision = precision_score(y_test, y_pred)\n",
    "recall = recall_score(y_test, y_pred)\n",
    "f1 = f1_score(y_test, y_pred)\n",
    "\n",
    "print('Precision:', precision)\n",
    "print('Recall:', recall)\n",
    "print('F1-score:', f1)"
   ]
  }
 ],
 "metadata": {
  "interpreter": {
   "hash": "7c5906788254db2adee94f443e168d9f53efd2470d49e147767151455b9b7e48"
  },
  "kernelspec": {
   "display_name": "Python 3.7.6 ('base')",
   "language": "python",
   "name": "python3"
  },
  "language_info": {
   "codemirror_mode": {
    "name": "ipython",
    "version": 3
   },
   "file_extension": ".py",
   "mimetype": "text/x-python",
   "name": "python",
   "nbconvert_exporter": "python",
   "pygments_lexer": "ipython3",
   "version": "3.7.6"
  },
  "orig_nbformat": 4
 },
 "nbformat": 4,
 "nbformat_minor": 2
}
