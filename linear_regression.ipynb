{
  "nbformat": 4,
  "nbformat_minor": 0,
  "metadata": {
    "colab": {
      "provenance": [],
      "authorship_tag": "ABX9TyOjBhK9cb6nfR7NHMFmPc9R",
      "include_colab_link": true
    },
    "kernelspec": {
      "name": "python3",
      "display_name": "Python 3"
    },
    "language_info": {
      "name": "python"
    }
  },
  "cells": [
    {
      "cell_type": "markdown",
      "metadata": {
        "id": "view-in-github",
        "colab_type": "text"
      },
      "source": [
        "<a href=\"https://colab.research.google.com/github/mobley-trent/ml-from-scratch/blob/mobley-trent-patch-1/linear_regression.ipynb\" target=\"_parent\"><img src=\"https://colab.research.google.com/assets/colab-badge.svg\" alt=\"Open In Colab\"/></a>"
      ]
    },
    {
      "cell_type": "markdown",
      "source": [
        "Linear Regression is a widely used statistical approach to model the relationship between a dependent variable and one or more independent variables. In the context of machine learning, it is used as a predictive modelling tool for predicting a continuous outcome variable Y from one or more predictor variables X.\n",
        "\n",
        "The basic idea of linear regression is to find the equation of a straight line that best fits the data points in a scatter plot. The equation of the line is represented as `y = mx + b`, where y is the dependent variable, x is the independent variable, m is the slope of the line, and b is the y-intercept.\n",
        "\n",
        "The goal of linear regression is to find the values of m and b that minimize the sum of the squared differences between the actual and predicted values of y. This is called the least squares method.\n",
        "\n",
        "Once the line of best fit is determined, it can be used to predict the values of y for new values of x. This is useful for making predictions and understanding the relationship between the dependent and independent variables.\n",
        "\n",
        "There are two main types of linear regression: simple linear regression and multiple linear regression. Simple linear regression involves only one independent variable, while multiple linear regression involves two or more independent variables.\n",
        "\n",
        "Linear regression has a wide range of applications, including finance, marketing, economics, and science. It is commonly used in areas such as predicting stock prices, analyzing marketing campaigns, and studying the relationship between environmental factors and health outcomes."
      ],
      "metadata": {
        "id": "PM82XgObq1bd"
      }
    },
    {
      "cell_type": "code",
      "execution_count": null,
      "metadata": {
        "id": "b-CFIPjzhKPa"
      },
      "outputs": [],
      "source": [
        "import numpy as np\n",
        "\n",
        "class LinearRegression:\n",
        "\n",
        "    def __init__(self, lr=0.01, n_iter=1000):\n",
        "        self.lr = lr\n",
        "        self.n_iter = n_iter\n",
        "        self.weights = None\n",
        "        self.bias = None\n",
        "\n",
        "    def fit(self, X, y):\n",
        "        n_samples, n_features = X.shape\n",
        "\n",
        "        # Initialize weights and bias to zero\n",
        "        self.weights = np.zeros(n_features)\n",
        "        self.bias = 0\n",
        "\n",
        "        # Gradient descent\n",
        "        for i in range(self.n_iter):\n",
        "            y_pred = np.dot(X, self.weights) + self.bias\n",
        "\n",
        "            dw = (1/n_samples) * np.dot(X.T, (y_pred - y))\n",
        "            db = (1/n_samples) * np.sum(y_pred - y)\n",
        "\n",
        "            self.weights -= self.lr * dw\n",
        "            self.bias -= self.lr * db\n",
        "\n",
        "    def predict(self, X):\n",
        "        y_pred = np.dot(X, self.weights) + self.bias\n",
        "        return y_pred\n"
      ]
    },
    {
      "cell_type": "markdown",
      "source": [
        "In this implementation, the `fit` method takes a 2D array `X` of shape `(n_samples, n_features)` and a 1D array `y` of shape `(n_samples,)` as input, where `n_samples` is the number of training samples and `n_features` is the number of features. The algorithm initializes the weights and bias to zero, and then performs gradient descent for `n_iter` iterations to minimize the mean squared error between the predicted and actual values.\n",
        "\n",
        "The predict method takes a 2D array `X` of shape `(n_samples, n_features)` as input and returns the predicted values of `y` for each sample."
      ],
      "metadata": {
        "id": "PNrFpF22sAFg"
      }
    },
    {
      "cell_type": "code",
      "source": [
        "# TRAINING AND VALIDATION\n",
        "\n",
        "from sklearn.model_selection import train_test_split\n",
        "from sklearn import datasets\n",
        "import matplotlib.pyplot as plt\n",
        "\n",
        "X, y = datasets.make_regression(n_samples=100, n_features=1, noise=20, random_state=4)\n",
        "X_train, X_test, y_train, y_test = train_test_split(X, y, test_size=0.2, random_state=1234)\n",
        "\n",
        "fig = plt.figure(figsize=(8,6))\n",
        "plt.scatter(X[:, 0], y, color = \"b\", marker = \"o\", s = 30)\n",
        "plt.show()"
      ],
      "metadata": {
        "colab": {
          "base_uri": "https://localhost:8080/",
          "height": 374
        },
        "id": "_90vXoQ3rVGw",
        "outputId": "aa345c55-2576-429b-fbc9-c18c287c7b20"
      },
      "execution_count": null,
      "outputs": [
        {
          "output_type": "display_data",
          "data": {
            "text/plain": [
              "<Figure size 576x432 with 1 Axes>"
            ],
            "image/png": "[encoded data removed]"
          },
          "metadata": {
            "needs_background": "light"
          }
        }
      ]
    },
    {
      "cell_type": "code",
      "source": [
        "reg = LinearRegression()\n",
        "reg.fit(X_train,y_train)\n",
        "predictions = reg.predict(X_test)"
      ],
      "metadata": {
        "id": "JT4JK8V8ri7H"
      },
      "execution_count": null,
      "outputs": []
    },
    {
      "cell_type": "code",
      "source": [
        "def mse(y_test, predictions):\n",
        "    return np.mean((y_test-predictions)**2)\n",
        "\n",
        "mse = mse(y_test, predictions)\n",
        "print(mse)"
      ],
      "metadata": {
        "colab": {
          "base_uri": "https://localhost:8080/"
        },
        "id": "mmikHn0SrtLT",
        "outputId": "cb36dfc3-59cb-4c3c-c210-5b6d55b3baba"
      },
      "execution_count": null,
      "outputs": [
        {
          "output_type": "stream",
          "name": "stdout",
          "text": [
            "305.7719958301902\n"
          ]
        }
      ]
    },
    {
      "cell_type": "code",
      "source": [
        "y_pred_line = reg.predict(X)\n",
        "cmap = plt.get_cmap('viridis')\n",
        "fig = plt.figure(figsize=(8,6))\n",
        "m1 = plt.scatter(X_train, y_train, color=cmap(0.9), s=10)\n",
        "m2 = plt.scatter(X_test, y_test, color=cmap(0.5), s=10)\n",
        "plt.plot(X, y_pred_line, color='black', linewidth=2, label='Prediction')\n",
        "plt.show()"
      ],
      "metadata": {
        "colab": {
          "base_uri": "https://localhost:8080/",
          "height": 375
        },
        "id": "1jmFCdzqrzkQ",
        "outputId": "a7fc519b-ca80-4459-dc8f-790e3c1d9959"
      },
      "execution_count": null,
      "outputs": [
        {
          "output_type": "display_data",
          "data": {
            "text/plain": [
              "<Figure size 576x432 with 1 Axes>"
            ],
            "image/png": "[encoded data removed]"
          },
          "metadata": {
            "needs_background": "light"
          }
        }
      ]
    }
  ]
}