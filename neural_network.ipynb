{
 "cells": [
  {
   "cell_type": "markdown",
   "metadata": {},
   "source": [
    "A neural network is a machine learning model inspired by the structure and function of the human brain. It is composed of layers of interconnected \"neurons,\" which process and transmit information.\n",
    "\n",
    "In Python, a neural network can be implemented using various libraries such as TensorFlow, PyTorch, or NumPy. "
   ]
  },
  {
   "cell_type": "code",
   "execution_count": 1,
   "metadata": {},
   "outputs": [
    {
     "name": "stdout",
     "output_type": "stream",
     "text": [
      "Error after 0 epochs: 0.4964100319027255\n",
      "Error after 1000 epochs: 0.4574769162712369\n",
      "Error after 2000 epochs: 0.3591576915941936\n",
      "Error after 3000 epochs: 0.23958134001122777\n",
      "Error after 4000 epochs: 0.14319129148234874\n",
      "Error after 5000 epochs: 0.09865883104560327\n",
      "Error after 6000 epochs: 0.07598989385306197\n",
      "Error after 7000 epochs: 0.06261683996031073\n",
      "Error after 8000 epochs: 0.05381789299374537\n",
      "Error after 9000 epochs: 0.04757094839969512\n",
      "[[0.03499461]\n",
      " [0.95478633]\n",
      " [0.96201778]\n",
      " [0.05337798]]\n"
     ]
    }
   ],
   "source": [
    "import numpy as np\n",
    "\n",
    "# Activation function\n",
    "def sigmoid(x):\n",
    "  return 1 / (1 + np.exp(-x))\n",
    "\n",
    "# Derivative of sigmoid function\n",
    "def sigmoid_derivative(x):\n",
    "  return x * (1 - x)\n",
    "\n",
    "# Input data\n",
    "inputs = np.array([[0, 0, 1],\n",
    "                   [0, 1, 1],\n",
    "                   [1, 0, 1],\n",
    "                   [1, 1, 1]])\n",
    "\n",
    "# Output data\n",
    "outputs = np.array([[0],\n",
    "                    [1],\n",
    "                    [1],\n",
    "                    [0]])\n",
    "\n",
    "# Seed the random number generator\n",
    "np.random.seed(1)\n",
    "\n",
    "# Initialize the weights randomly with mean 0\n",
    "weights_0_1 = 2 * np.random.random((3, 4)) - 1\n",
    "weights_1_2 = 2 * np.random.random((4, 1)) - 1\n",
    "\n",
    "# Set the learning rate\n",
    "learning_rate = 0.1\n",
    "\n",
    "# Train the model for 10000 epochs\n",
    "for epoch in range(10000):\n",
    "  # Forward propagation\n",
    "  layer_0 = inputs\n",
    "  layer_1 = sigmoid(np.dot(layer_0, weights_0_1))\n",
    "  layer_2 = sigmoid(np.dot(layer_1, weights_1_2))\n",
    "\n",
    "  # Calculate the error\n",
    "  error = outputs - layer_2\n",
    "  if epoch % 1000 == 0:\n",
    "    print(f'Error after {epoch} epochs: {np.mean(np.abs(error))}')\n",
    "\n",
    "  # Calculate the gradient for the output layer\n",
    "  layer_2_delta = error * sigmoid_derivative(layer_2)\n",
    "\n",
    "  # Calculate the error for the hidden layer\n",
    "  layer_1_error = layer_2_delta.dot(weights_1_2.T)\n",
    "\n",
    "  # Calculate the gradient for the hidden layer\n",
    "  layer_1_delta = layer_1_error * sigmoid_derivative(layer_1)\n",
    "\n",
    "  # Update the weights\n",
    "  weights_1_2 += learning_rate * layer_1.T.dot(layer_2_delta)\n",
    "  weights_0_1 += learning_rate * layer_0.T.dot(layer_1_delta)\n",
    "\n",
    "# Print the final output\n",
    "print(layer_2)"
   ]
  },
  {
   "cell_type": "markdown",
   "metadata": {},
   "source": [
    "The code above implements a neural network with two layers: an input layer and an output layer. The input layer has 3 nodes, and the output layer has 1 node. The input data is a 4x3 matrix, and the output data is a 4x1 matrix. The weights are initialized randomly with mean 0, and the model is trained for 10000 epochs using the sigmoid activation function and the mean squared error loss function."
   ]
  }
 ],
 "metadata": {
  "interpreter": {
   "hash": "7c5906788254db2adee94f443e168d9f53efd2470d49e147767151455b9b7e48"
  },
  "kernelspec": {
   "display_name": "Python 3.7.6 ('base')",
   "language": "python",
   "name": "python3"
  },
  "language_info": {
   "codemirror_mode": {
    "name": "ipython",
    "version": 3
   },
   "file_extension": ".py",
   "mimetype": "text/x-python",
   "name": "python",
   "nbconvert_exporter": "python",
   "pygments_lexer": "ipython3",
   "version": "3.7.6"
  },
  "orig_nbformat": 4
 },
 "nbformat": 4,
 "nbformat_minor": 2
}
