{
 "cells": [
  {
   "cell_type": "markdown",
   "metadata": {},
   "source": [
    "A decision tree is a machine learning algorithm that can be used for classification or regression tasks. It works by creating a tree-like model of decisions and their possible consequences, with the goal of accurately predicting the outcome of a new data point based on its characteristics.\n",
    "\n",
    "Here is an example of how you could implement a decision tree from scratch in Python:"
   ]
  },
  {
   "cell_type": "code",
   "execution_count": 3,
   "metadata": {},
   "outputs": [],
   "source": [
    "class Node:\n",
    "    def __init__(self, feature=None, split_point=None, left=None, right=None):\n",
    "        self.feature = feature\n",
    "        self.split_point = split_point\n",
    "        self.left = left\n",
    "        self.right = right\n",
    "\n",
    "class DecisionTree:\n",
    "    def __init__(self, criterion='gini'):\n",
    "        self.criterion = criterion\n",
    "        self.tree = None\n",
    "\n",
    "    def fit(self, X, y):\n",
    "        self.tree = self._build_tree(X, y)\n",
    "\n",
    "    def _build_tree(self, X, y):\n",
    "        # base case: no more features or all samples belong to the same class\n",
    "        if len(set(y)) == 1 or len(X[0]) == 0:\n",
    "            leaf = Node(y)\n",
    "            return leaf\n",
    "\n",
    "        # find the best feature and split point\n",
    "        best_feature, split_point = self._find_best_split(X, y)\n",
    "\n",
    "        # split the data into two sets based on the best feature and split point\n",
    "        X1, y1, X2, y2 = self._split_data(X, y, best_feature, split_point)\n",
    "\n",
    "        # create a new internal node with the best feature and split point\n",
    "        node = Node(best_feature, split_point)\n",
    "\n",
    "        # recursive call to build the left and right subtrees\n",
    "        node.left = self._build_tree(X1, y1)\n",
    "        node.right = self._build_tree(X2, y2)\n",
    "\n",
    "        return node\n",
    "\n",
    "    def _find_best_split(self, X, y):\n",
    "        # code to find the best feature and split point goes here\n",
    "        pass\n",
    "\n",
    "    def _split_data(self, X, y, feature, split_point):\n",
    "        # code to split the data into two sets based on the given feature and split point goes here\n",
    "        pass        \n"
   ]
  },
  {
   "cell_type": "markdown",
   "metadata": {},
   "source": [
    "Note: This is just a high level representation of the process behind the original classifier in sklearn. There are still many details and considerations that need to be addressed, including handling missing values and dealing with overfitting."
   ]
  }
 ],
 "metadata": {
  "interpreter": {
   "hash": "7c5906788254db2adee94f443e168d9f53efd2470d49e147767151455b9b7e48"
  },
  "kernelspec": {
   "display_name": "Python 3.7.6 ('base')",
   "language": "python",
   "name": "python3"
  },
  "language_info": {
   "codemirror_mode": {
    "name": "ipython",
    "version": 3
   },
   "file_extension": ".py",
   "mimetype": "text/x-python",
   "name": "python",
   "nbconvert_exporter": "python",
   "pygments_lexer": "ipython3",
   "version": "3.7.6"
  },
  "orig_nbformat": 4
 },
 "nbformat": 4,
 "nbformat_minor": 2
}
